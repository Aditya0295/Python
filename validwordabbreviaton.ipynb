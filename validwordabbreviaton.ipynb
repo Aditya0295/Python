{
 "cells": [
  {
   "cell_type": "markdown",
   "metadata": {},
   "source": [
    "# Valid word abbreviations"
   ]
  },
  {
   "cell_type": "markdown",
   "metadata": {},
   "source": [
    "Given a non-empty string s and an abbreviation abbr, return whether the string matches with the given abbreviation.\n",
    "\n",
    "A string such as \"word\" contains only the following valid abbreviations:\n",
    "\n",
    "[\"word\", \"1ord\", \"w1rd\", \"wo1d\", \"wor1\", \"2rd\", \"w2d\", \"wo2\", \"1o1d\", \"1or1\", \"w1r1\", \"1o2\", \"2r1\", \"3d\", \"w3\", \"4\"]\n",
    "\n",
    "Notice that only the above abbreviations are valid abbreviations of the string \"word\". Any other string is not a valid abbreviation of \"word\"."
   ]
  },
  {
   "cell_type": "markdown",
   "metadata": {},
   "source": [
    "Example 1:\n",
    "Given s = \"internationalization\", abbr = \"i12iz4n\":\n",
    "\n",
    "Return true."
   ]
  },
  {
   "cell_type": "code",
   "execution_count": 18,
   "metadata": {},
   "outputs": [
    {
     "data": {
      "text/plain": [
       "True"
      ]
     },
     "execution_count": 18,
     "metadata": {},
     "output_type": "execute_result"
    }
   ],
   "source": [
    "\n",
    "class Solution:\n",
    "    def validWordAbbreviation(self, word : str, abbr: str) -> bool:\n",
    "        if abbr.isnumeric():\n",
    "            return True\n",
    "        i,j=0,0\n",
    "        count =\"\"\n",
    "        \n",
    "        while i < len(word) and j < len(abbr):\n",
    "            \n",
    "            if word[i] != abbr[j]:\n",
    "                \n",
    "                if abbr[j].isnumeric():\n",
    "                    count = count + abbr[j]\n",
    "                    j+=1\n",
    "                    \n",
    "                else:\n",
    "                    num =int(count)\n",
    "                    i = i+num\n",
    "                    count =\"\"\n",
    "            else:\n",
    "                i+=1\n",
    "                j+=1\n",
    "        return i == len(word) and j ==len(abbr)\n",
    "\n",
    "a = Solution()\n",
    "a.validWordAbbreviation('word', '1ord')"
   ]
  },
  {
   "cell_type": "code",
   "execution_count": 19,
   "metadata": {},
   "outputs": [
    {
     "data": {
      "text/plain": [
       "True"
      ]
     },
     "execution_count": 19,
     "metadata": {},
     "output_type": "execute_result"
    }
   ],
   "source": [
    "a = Solution()\n",
    "a.validWordAbbreviation('internationalization', 'i12iz4n')"
   ]
  },
  {
   "cell_type": "code",
   "execution_count": null,
   "metadata": {},
   "outputs": [],
   "source": []
  }
 ],
 "metadata": {
  "kernelspec": {
   "display_name": "Python 3",
   "language": "python",
   "name": "python3"
  },
  "language_info": {
   "codemirror_mode": {
    "name": "ipython",
    "version": 3
   },
   "file_extension": ".py",
   "mimetype": "text/x-python",
   "name": "python",
   "nbconvert_exporter": "python",
   "pygments_lexer": "ipython3",
   "version": "3.7.6"
  }
 },
 "nbformat": 4,
 "nbformat_minor": 4
}
