{
 "cells": [
  {
   "cell_type": "markdown",
   "metadata": {},
   "source": [
    "Given two non-negative integers num1 and num2 represented as string, return the sum of num1 and num2.\n",
    "\n",
    "Note:\n",
    "\n",
    "The length of both num1 and num2 is < 5100.\n",
    "\n",
    "Both num1 and num2 contains only digits 0-9.\n",
    "\n",
    "Both num1 and num2 does not contain any leading zero.\n",
    "\n",
    "You must not use any built-in BigInteger library or convert the inputs to integer directly."
   ]
  },
  {
   "cell_type": "code",
   "execution_count": 1,
   "metadata": {},
   "outputs": [],
   "source": [
    "class Solution:\n",
    "    def addStrings(self, num1:str, num2:str) ->str:\n",
    "        result =\"\"\n",
    "        carry = 0\n",
    "        i = len(num1) -1\n",
    "        j = len(num2)-1\n",
    "        \n",
    "        while i >= 0 or j>=0 or carry >0:\n",
    "            if i>=0:\n",
    "                carry += int(num1[i])\n",
    "                i -=1\n",
    "            if j>=0:\n",
    "                carry += int(num2[j])\n",
    "                j -=1\n",
    "            result += str(carry % 10)\n",
    "            carry = carry // 10\n",
    "            \n",
    "        return result[:: -1]"
   ]
  },
  {
   "cell_type": "code",
   "execution_count": 2,
   "metadata": {},
   "outputs": [
    {
     "data": {
      "text/plain": [
       "'1360'"
      ]
     },
     "execution_count": 2,
     "metadata": {},
     "output_type": "execute_result"
    }
   ],
   "source": [
    "a = Solution()\n",
    "a.addStrings('1234','126')"
   ]
  }
 ],
 "metadata": {
  "kernelspec": {
   "display_name": "Python 3",
   "language": "python",
   "name": "python3"
  },
  "language_info": {
   "codemirror_mode": {
    "name": "ipython",
    "version": 3
   },
   "file_extension": ".py",
   "mimetype": "text/x-python",
   "name": "python",
   "nbconvert_exporter": "python",
   "pygments_lexer": "ipython3",
   "version": "3.7.6"
  }
 },
 "nbformat": 4,
 "nbformat_minor": 4
}
